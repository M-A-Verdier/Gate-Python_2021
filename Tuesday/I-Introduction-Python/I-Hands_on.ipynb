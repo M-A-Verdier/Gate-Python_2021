{
 "cells": [
  {
   "cell_type": "markdown",
   "metadata": {},
   "source": [
    "---\n",
    "**Ex 1:** Leap years (bissextile years) are years that can be either divided by 4 but not by 100 or that can be divided by 400.\n",
    "- Write a function `leap` that takes a year as argument, calculate if the year if bissextile or not and return True or False.\n",
    "- Create en empty list `leap_list` and fill (method `append`) it with all the leap years from 2020 to 3020 using a `for` loop, and the function `leap`. *Hint: you can use `range(a, b, p)` to get all the value between $a$ (included) anb $b$ (excluded) with a step $p$ (integer)*.\n",
    "- Print the result."
   ]
  },
  {
   "cell_type": "code",
   "execution_count": null,
   "metadata": {},
   "outputs": [],
   "source": []
  },
  {
   "cell_type": "markdown",
   "metadata": {},
   "source": [
    "---\n",
    "**Ex 2:** Trigonometric functions\n",
    "- Define a function `fac` that takes an integer `n`as argument and that calculate and return $n!$\n",
    "- Define a function `cos` that take a real `x` and an integer `n` as arguments and that calculate and return: $\\displaystyle \\cos(x) = \\sum_{i=0}^{n} \\frac{(-1)^i x^{2i}}{2i!}$, using the fucntion `fac`.\n",
    "- Define a function `sin` that take a real `x` and an integer `n` as arguments and that calculate and return: $\\displaystyle \\sin(x) = \\sum_{i=0}^{n} \\frac{(-1)^i x^{2i+1}}{(2i+1)!}$, using the function `fac`.\n",
    "- Define a function `trigo` that take a function `func`, a real `x` and an integer `n` as arguments and that calculate and return $func(x, n)$, where `func` will be either `cos` or `sin` when used.\n",
    "- Using the `input` function as bellow to define the various parameters, print the result of yout prefered function, angle, and computation order (don't go to high for n)."
   ]
  },
  {
   "cell_type": "code",
   "execution_count": null,
   "metadata": {},
   "outputs": [],
   "source": []
  },
  {
   "cell_type": "markdown",
   "metadata": {},
   "source": [
    "---\n",
    "**Ex 3:** The function in the cell below calculate and return the 0 of a function in the $[a, b]$ interval by a dichotomy algorithm. There must be exactly one zeros in the interval.\n",
    "- Define a fonction $f(x) = (x-1)^2 - 3$ and calculate the 0 using the `dichotomy` function. The research interval must be choosen wisely.\n",
    "- Print the obtained value and the number of loops required."
   ]
  },
  {
   "cell_type": "code",
   "execution_count": null,
   "metadata": {},
   "outputs": [],
   "source": [
    "def dichotomy(f, a, b, eps=1e-8):\n",
    "    fa = f(a)\n",
    "    fb = f(b)\n",
    "    df = f((a+b)*0.5)\n",
    "    counter = 0\n",
    "    while abs(df) > eps and counter < 1e8:\n",
    "        c = 0.5*(b + a)\n",
    "        fc = f(c)\n",
    "        if fc*fa < 0:\n",
    "            b = c\n",
    "            fb = f(b)\n",
    "        else:\n",
    "            a = c\n",
    "            fa = f(a)\n",
    "        df = fc\n",
    "        counter += 1\n",
    "    return 0.5*(b + a), counter"
   ]
  }
 ],
 "metadata": {
  "kernelspec": {
   "display_name": "Python 3",
   "language": "python",
   "name": "python3"
  },
  "language_info": {
   "codemirror_mode": {
    "name": "ipython",
    "version": 3
   },
   "file_extension": ".py",
   "mimetype": "text/x-python",
   "name": "python",
   "nbconvert_exporter": "python",
   "pygments_lexer": "ipython3",
   "version": "3.8.5"
  }
 },
 "nbformat": 4,
 "nbformat_minor": 4
}
