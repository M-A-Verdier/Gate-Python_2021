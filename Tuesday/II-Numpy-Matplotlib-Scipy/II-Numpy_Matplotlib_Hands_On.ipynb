{
 "cells": [
  {
   "cell_type": "code",
   "execution_count": 1,
   "id": "correct-worker",
   "metadata": {},
   "outputs": [],
   "source": [
    "import numpy as np\n",
    "import matplotlib.pyplot as plt\n",
    "import scipy.optimize as opt"
   ]
  },
  {
   "cell_type": "markdown",
   "id": "rental-bristol",
   "metadata": {},
   "source": [
    "---\n",
    "**Ex 1:** Array creation.\n",
    "- Create 3 *lists* `l_f`, `l_i` and `l_s` composed of *floats*, *integers* and *Strings* (one type per list) and convert them to *arrays* `a_f`, `a_i` adn `a_s`. Print the *dtype* of the created arrays.\n",
    "- Create two *arrays* `a0` and `a1` composed of two hundred times the number 9, one from an array of 0 and one from an array of 1.\n",
    "- Create two arrays `a2` and `a3`of shape 3 by 3 containing the number from 0 to 8, one from a list of lists and one by reshaping a one-dimentonel array. Finally create an array `a4` by summing these two."
   ]
  },
  {
   "cell_type": "code",
   "execution_count": 2,
   "id": "flying-stand",
   "metadata": {},
   "outputs": [
    {
     "name": "stdout",
     "output_type": "stream",
     "text": [
      "[1.2 2.2 3.2] float64\n",
      "[1 2 3] int64\n",
      "['mon' 'tue' 'wed'] <U3\n"
     ]
    }
   ],
   "source": [
    "l_f = [1.2, 2.2, 3.2]\n",
    "l_i = [1, 2, 3]\n",
    "l_s = [\"mon\", \"tue\", \"wed\"]\n",
    "\n",
    "a_f = np.array(l_f)\n",
    "a_i = np.array(l_i)\n",
    "a_s = np.array(l_s)\n",
    "\n",
    "print(a_f, a_f.dtype)\n",
    "print(a_i, a_i.dtype)\n",
    "print(a_s, a_s.dtype)"
   ]
  },
  {
   "cell_type": "code",
   "execution_count": 4,
   "id": "velvet-layout",
   "metadata": {},
   "outputs": [
    {
     "name": "stdout",
     "output_type": "stream",
     "text": [
      "[9. 9. 9. 9. 9. 9. 9. 9. 9. 9. 9. 9. 9. 9. 9. 9. 9. 9. 9. 9. 9. 9. 9. 9.\n",
      " 9. 9. 9. 9. 9. 9. 9. 9. 9. 9. 9. 9. 9. 9. 9. 9. 9. 9. 9. 9. 9. 9. 9. 9.\n",
      " 9. 9. 9. 9. 9. 9. 9. 9. 9. 9. 9. 9. 9. 9. 9. 9. 9. 9. 9. 9. 9. 9. 9. 9.\n",
      " 9. 9. 9. 9. 9. 9. 9. 9. 9. 9. 9. 9. 9. 9. 9. 9. 9. 9. 9. 9. 9. 9. 9. 9.\n",
      " 9. 9. 9. 9. 9. 9. 9. 9. 9. 9. 9. 9. 9. 9. 9. 9. 9. 9. 9. 9. 9. 9. 9. 9.\n",
      " 9. 9. 9. 9. 9. 9. 9. 9. 9. 9. 9. 9. 9. 9. 9. 9. 9. 9. 9. 9. 9. 9. 9. 9.\n",
      " 9. 9. 9. 9. 9. 9. 9. 9. 9. 9. 9. 9. 9. 9. 9. 9. 9. 9. 9. 9. 9. 9. 9. 9.\n",
      " 9. 9. 9. 9. 9. 9. 9. 9. 9. 9. 9. 9. 9. 9. 9. 9. 9. 9. 9. 9. 9. 9. 9. 9.\n",
      " 9. 9. 9. 9. 9. 9. 9. 9.]\n",
      "[9. 9. 9. 9. 9. 9. 9. 9. 9. 9. 9. 9. 9. 9. 9. 9. 9. 9. 9. 9. 9. 9. 9. 9.\n",
      " 9. 9. 9. 9. 9. 9. 9. 9. 9. 9. 9. 9. 9. 9. 9. 9. 9. 9. 9. 9. 9. 9. 9. 9.\n",
      " 9. 9. 9. 9. 9. 9. 9. 9. 9. 9. 9. 9. 9. 9. 9. 9. 9. 9. 9. 9. 9. 9. 9. 9.\n",
      " 9. 9. 9. 9. 9. 9. 9. 9. 9. 9. 9. 9. 9. 9. 9. 9. 9. 9. 9. 9. 9. 9. 9. 9.\n",
      " 9. 9. 9. 9. 9. 9. 9. 9. 9. 9. 9. 9. 9. 9. 9. 9. 9. 9. 9. 9. 9. 9. 9. 9.\n",
      " 9. 9. 9. 9. 9. 9. 9. 9. 9. 9. 9. 9. 9. 9. 9. 9. 9. 9. 9. 9. 9. 9. 9. 9.\n",
      " 9. 9. 9. 9. 9. 9. 9. 9. 9. 9. 9. 9. 9. 9. 9. 9. 9. 9. 9. 9. 9. 9. 9. 9.\n",
      " 9. 9. 9. 9. 9. 9. 9. 9. 9. 9. 9. 9. 9. 9. 9. 9. 9. 9. 9. 9. 9. 9. 9. 9.\n",
      " 9. 9. 9. 9. 9. 9. 9. 9.]\n"
     ]
    }
   ],
   "source": [
    "a0 = np.zeros(200) + 9\n",
    "a1 = np.ones(200) * 9\n",
    "print(a0)\n",
    "print(a1)"
   ]
  },
  {
   "cell_type": "code",
   "execution_count": 8,
   "id": "bulgarian-morgan",
   "metadata": {},
   "outputs": [
    {
     "name": "stdout",
     "output_type": "stream",
     "text": [
      "[[0 1 2]\n",
      " [3 4 5]\n",
      " [6 7 8]]\n",
      "[[0 1 2]\n",
      " [3 4 5]\n",
      " [6 7 8]]\n",
      "[[0 1 2]\n",
      " [3 4 5]\n",
      " [6 7 8]]\n",
      "[[ 0  2  4]\n",
      " [ 6  8 10]\n",
      " [12 14 16]]\n"
     ]
    }
   ],
   "source": [
    "a2 = np.array([[0, 1, 2], [3, 4, 5], [6, 7, 8]])\n",
    "print(a2)\n",
    "a3 = np.arange(9).reshape((3, 3))\n",
    "print(a3)\n",
    "a3 = np.reshape(np.arange(9), (3, 3))\n",
    "print(a3)\n",
    "a4 = a2 + a3\n",
    "print(a4)"
   ]
  },
  {
   "cell_type": "markdown",
   "id": "typical-hawaiian",
   "metadata": {},
   "source": [
    "---\n",
    "**Ex 2:** Numpy functions.\n",
    "- Apply the numpy functions `sum`, `prod`, `flip`, `mean`, `std` and `median`and the array `a4` and print the results.\n",
    "- Do the sameas previous but adding the option `axis=0` or `axis=1` to the function to apply it only on rows or columns."
   ]
  },
  {
   "cell_type": "code",
   "execution_count": 21,
   "id": "handed-irish",
   "metadata": {},
   "outputs": [
    {
     "name": "stdout",
     "output_type": "stream",
     "text": [
      "72 72 [18 24 30] [ 6 24 42]\n",
      "==================================\n",
      "0 0 [  0 224 640] [   0  480 2688]\n",
      "==================================\n",
      "[[16 14 12]\n",
      " [10  8  6]\n",
      " [ 4  2  0]] [[12 14 16]\n",
      " [ 6  8 10]\n",
      " [ 0  2  4]] [[ 4  2  0]\n",
      " [10  8  6]\n",
      " [16 14 12]]\n",
      "==================================\n",
      "8.0 8.0 [ 6.  8. 10.] [ 2.  8. 14.]\n",
      "==================================\n",
      "5.163977794943222 5.163977794943222 [4.89897949 4.89897949 4.89897949] [1.63299316 1.63299316 1.63299316]\n",
      "==================================\n",
      "8.0 [ 6.  8. 10.] [ 2.  8. 14.]\n"
     ]
    }
   ],
   "source": [
    "print(np.sum(a4), a4.sum(), np.sum(a4, axis=0), np.sum(a4, axis=1))\n",
    "print(\"==================================\")\n",
    "print(np.prod(a4), a4.prod(), np.prod(a4, axis=0), np.prod(a4, axis=1))\n",
    "print(\"==================================\")\n",
    "print(np.flip(a4), np.flip(a4, axis=0), np.flip(a4, axis=1))\n",
    "print(\"==================================\")\n",
    "print(np.mean(a4), a4.mean(), np.mean(a4, axis=0), np.mean(a4, axis=1))\n",
    "print(\"==================================\")\n",
    "print(np.std(a4), a4.std(), np.std(a4, axis=0), np.std(a4, axis=1))\n",
    "print(\"==================================\")\n",
    "print(np.median(a4), np.median(a4, axis=0), np.median(a4, axis=1))"
   ]
  },
  {
   "cell_type": "markdown",
   "id": "authentic-prior",
   "metadata": {},
   "source": [
    "---\n",
    "**Ex 3:** Matplotlib\n",
    "- Create an array `theta` of values from $0$ to $2\\pi$ with a step of 0.01 and plot $f(\\theta) = \\cos(\\theta)$ without using any loop.\n",
    "- Create a 2D array of shape 5 by 5 with value 0 everywhere execpt on the central value which will be at value 2 and the outermost values set to 1.\n",
    "- Generate an array containing a randomdistribution of $N=10000$ values drawn from an exponential probability density function with the parameter $\\tau=5$ (use `numpy.random.exponential(tau, N)`) and plot its histogram on the interval $[0;50]$ and 50 bins. Compare linear and log display scale. Optional : Superimpose Poissonian uncertainties calculated as `numpy.sqrt(bin_height)`"
   ]
  },
  {
   "cell_type": "code",
   "execution_count": 22,
   "id": "digital-hardware",
   "metadata": {},
   "outputs": [
    {
     "data": {
      "image/png": "[encoded data removed]",
      "text/plain": [
       "<Figure size 432x288 with 1 Axes>"
      ]
     },
     "metadata": {
      "needs_background": "light"
     },
     "output_type": "display_data"
    }
   ],
   "source": [
    "theta = np.arange(0, 2*np.pi, 0.01)\n",
    "cos_theta = np.cos(theta)\n",
    "plt.figure()\n",
    "plt.plot(theta, cos_theta)\n",
    "plt.show()"
   ]
  },
  {
   "cell_type": "code",
   "execution_count": 24,
   "id": "meaning-amber",
   "metadata": {},
   "outputs": [
    {
     "data": {
      "image/png": "[encoded data removed]",
      "text/plain": [
       "<Figure size 432x288 with 2 Axes>"
      ]
     },
     "metadata": {
      "needs_background": "light"
     },
     "output_type": "display_data"
    },
    {
     "data": {
      "image/png": "[encoded data removed]",
      "text/plain": [
       "<Figure size 432x288 with 2 Axes>"
      ]
     },
     "metadata": {
      "needs_background": "light"
     },
     "output_type": "display_data"
    }
   ],
   "source": [
    "img = np.zeros([5, 5])\n",
    "img[2, 2] = 2\n",
    "img[0, :] = 1\n",
    "img[-1, :] = 1\n",
    "img[:, 0] = 1\n",
    "img[:, -1] = 1\n",
    "plt.figure()\n",
    "plt.imshow(img)\n",
    "plt.colorbar()\n",
    "plt.show()\n",
    "\n",
    "\n",
    "#########\n",
    "img = np.ones((5, 5))\n",
    "img[1:-1, 1:-1] = 0\n",
    "img[2, 2] = 2\n",
    "plt.figure()\n",
    "plt.imshow(img)\n",
    "plt.colorbar()\n",
    "plt.show()"
   ]
  },
  {
   "cell_type": "code",
   "execution_count": 31,
   "id": "blind-crime",
   "metadata": {},
   "outputs": [
    {
     "data": {
      "image/png": "[encoded data removed]",
      "text/plain": [
       "<Figure size 432x288 with 1 Axes>"
      ]
     },
     "metadata": {
      "needs_background": "light"
     },
     "output_type": "display_data"
    },
    {
     "data": {
      "image/png": "[encoded data removed]",
      "text/plain": [
       "<Figure size 432x288 with 1 Axes>"
      ]
     },
     "metadata": {
      "needs_background": "light"
     },
     "output_type": "display_data"
    }
   ],
   "source": [
    "dist = np.random.exponential(5, 10000)\n",
    "plt.figure()\n",
    "bins_height, bins_edges, patch = plt.hist(dist, bins=50, range=(0, 50))\n",
    "bins_center = (bins_edges[1:] + bins_edges[0:-1]) / 2\n",
    "unc = np.sqrt(bins_height)\n",
    "plt.errorbar(bins_center, bins_height, yerr=unc, fmt='none')\n",
    "plt.show()\n",
    "\n",
    "\n",
    "plt.figure()\n",
    "bins_height, bins_edges, patch = plt.hist(dist, bins=50, range=(0, 50), histtype='step')\n",
    "plt.errorbar(bins_center, bins_height, yerr=unc, fmt='none')\n",
    "plt.yscale('log')\n",
    "plt.show()"
   ]
  },
  {
   "cell_type": "markdown",
   "id": "dried-wayne",
   "metadata": {},
   "source": [
    "---\n",
    "**Ex 4:** Advanced Numpy\n",
    "The file *Spectrum.npy* contains a structured array saved in numpy binary format corresponding to the light emission spectrum of a scintillating cristal under x-rays. The array has two columns: the first one `\"wavelength_nm\"` correspond to the values of the wavelength (in nm) and the second `\"intensity_au\"` the light intensity in aribtary units. Unfortunatey the data are polluted withspurious hits from cosmic muons hitting the detector, saturating it.\n",
    "- Load and plot the data in a figure.\n",
    "- Filter the data to remove the bad data point using numpy bollena indexing and plot again the spectrum."
   ]
  },
  {
   "cell_type": "code",
   "execution_count": 41,
   "id": "talented-tunisia",
   "metadata": {},
   "outputs": [
    {
     "name": "stdout",
     "output_type": "stream",
     "text": [
      "[('wavelength_nm', '<f8'), ('intensity_au', '<f8')]\n"
     ]
    },
    {
     "data": {
      "image/png": "[encoded data removed]",
      "text/plain": [
       "<Figure size 432x288 with 1 Axes>"
      ]
     },
     "metadata": {
      "needs_background": "light"
     },
     "output_type": "display_data"
    },
    {
     "name": "stdout",
     "output_type": "stream",
     "text": [
      "[ True  True  True ...  True  True  True]\n",
      "[ True  True  True ...  True  True  True]\n"
     ]
    },
    {
     "data": {
      "image/png": "[encoded data removed]",
      "text/plain": [
       "<Figure size 432x288 with 1 Axes>"
      ]
     },
     "metadata": {
      "needs_background": "light"
     },
     "output_type": "display_data"
    }
   ],
   "source": [
    "data = np.load(\"Spectrum.npy\", allow_pickle=True)\n",
    "print(data.dtype)\n",
    "wavelength = data['wavelength_nm']\n",
    "intensity = data['intensity_au']\n",
    "\n",
    "plt.figure()\n",
    "plt.plot(wavelength, intensity, '.')\n",
    "plt.show()\n",
    "\n",
    "w1 = intensity < 4800\n",
    "print(w1)\n",
    "w2 = intensity > -1000\n",
    "print(w2)\n",
    "w = w1 & w2\n",
    "w = (intensity < 4800) & (intensity > -1000)\n",
    "\n",
    "\n",
    "plt.figure()\n",
    "plt.plot(wavelength[w], intensity[w], '.')\n",
    "plt.show()"
   ]
  },
  {
   "cell_type": "markdown",
   "id": "expanded-portal",
   "metadata": {},
   "source": [
    "---\n",
    "**Ex 5:** Data fitting\n",
    "The file *data_G.dat* contains a standard 2D numpy array saved in text format. The first column contains the abscissae and the second column the ordinates of a noisy gaussian curve.\n",
    "- Load the file and plot the gaussian.\n",
    "- Define a `gauss(x, amp, mu, sig)` function following the équation $$g(x) = A \\times e^{\\frac{1}{2}\\left( \\frac{x-\\mu}{\\sigma} \\right)^2}$$ and evaluate the tuple `p0` of the initial parameter guess (by eye).\n",
    "- Fit the gauss function on the data using the `scipy.optimize.curve_fit` and display the model function with the fit parameters on the data."
   ]
  },
  {
   "cell_type": "code",
   "execution_count": null,
   "id": "artificial-domestic",
   "metadata": {},
   "outputs": [],
   "source": []
  },
  {
   "cell_type": "code",
   "execution_count": null,
   "id": "noble-seller",
   "metadata": {},
   "outputs": [],
   "source": []
  }
 ],
 "metadata": {
  "kernelspec": {
   "display_name": "Python 3",
   "language": "python",
   "name": "python3"
  },
  "language_info": {
   "codemirror_mode": {
    "name": "ipython",
    "version": 3
   },
   "file_extension": ".py",
   "mimetype": "text/x-python",
   "name": "python",
   "nbconvert_exporter": "python",
   "pygments_lexer": "ipython3",
   "version": "3.8.5"
  }
 },
 "nbformat": 4,
 "nbformat_minor": 5
}
