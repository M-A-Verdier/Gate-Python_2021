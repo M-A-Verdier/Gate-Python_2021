{
 "cells": [
  {
   "cell_type": "markdown",
   "metadata": {},
   "source": [
    "# Scintillation bar"
   ]
  },
  {
   "cell_type": "markdown",
   "metadata": {},
   "source": [
    "In this example, we have a $10 \\times 0.6 \\times 0.6$ cm$^3$ teflon wrapped scintillator (LaBr$_3$ crystal), centered in the world and the longest size being along the $x$ axis. It is irradiated with a $^{22}$Na point source set a 4 cm above ($z$ direction) the center of the crystal. The source is monoenergetic and $\\gamma$-rays are only fired along the z-axis, towards the crystal. One photodetectors are set on each end of the scintillator (at $x=-5$ cm and $x=5$ cm), with the *perfect_apd* detection feature.\n",
    "\n",
    "- After running the simulation the Hits are stored in the *ScanPos_0.hits.npy* numpy file.\n",
    "- The goals of this exercise are the following:\n",
    "    - Selecting scintillation events corresponding to a single photoelectric absorption of 511 keV and then counting how many optical photons have reach each photodetector for these events. For this you will have to:\n",
    "        - find which *eventID* correspond to these events (hint: you can use the `numpy.unique` function) ;\n",
    "        - for each event: differentiate optical photons and $\\gamma$-rays based on their *PDGEncoding value (0 for optical photons and 22 for $\\gamma$-rays) ;\n",
    "        - For a single event, you can display the histograms of the x-positions, y-postions and z-positions and then study for the x-positions hitogram which population correspond to which process.\n",
    "    - Doing the same study with event either obtained with one or several compton/photoelectric interactions and studying the quantity of collected optical photons as a function of the deposited energy."
   ]
  },
  {
   "cell_type": "code",
   "execution_count": 1,
   "metadata": {},
   "outputs": [],
   "source": [
    "import numpy as np\n",
    "import matplotlib.pyplot as plt"
   ]
  },
  {
   "cell_type": "code",
   "execution_count": 2,
   "metadata": {},
   "outputs": [],
   "source": [
    "hits = np.load('ScanPos_0.hits.npy')"
   ]
  },
  {
   "cell_type": "code",
   "execution_count": 3,
   "metadata": {},
   "outputs": [
    {
     "name": "stdout",
     "output_type": "stream",
     "text": [
      "[('PDGEncoding', '<i4'), ('trackID', '<i4'), ('parentID', '<i4'), ('trackLocalTime', '<f8'), ('time', '<f8'), ('runID', '<i4'), ('eventID', '<i4'), ('sourceID', '<i4'), ('primaryID', '<i4'), ('posX', '<f4'), ('posY', '<f4'), ('posZ', '<f4'), ('localPosX', '<f4'), ('localPosY', '<f4'), ('localPosZ', '<f4'), ('momDirX', '<f4'), ('momDirY', '<f4'), ('momDirZ', '<f4'), ('edep', '<f4'), ('stepLength', '<f4'), ('trackLength', '<f4'), ('rotationAngle', '<f4'), ('axialPos', '<f4'), ('processName', 'S32'), ('comptVolName', 'S32'), ('RayleighVolName', 'S32'), ('volumeID[0]', '<i4'), ('volumeID[1]', '<i4'), ('volumeID[2]', '<i4'), ('volumeID[3]', '<i4'), ('volumeID[4]', '<i4'), ('volumeID[5]', '<i4'), ('volumeID[6]', '<i4'), ('volumeID[7]', '<i4'), ('volumeID[8]', '<i4'), ('volumeID[9]', '<i4'), ('sourcePosX', '<f4'), ('sourcePosY', '<f4'), ('sourcePosZ', '<f4'), ('nPhantomCompton', '<i4'), ('nCrystalCompton', '<i4'), ('nPhantomRayleigh', '<i4'), ('nCrystalRayleigh', '<i4'), ('', '<i4'), ('level1ID', '<i4'), ('level2ID', '<i4'), ('level3ID', '<i4'), ('level4ID', '<i4'), ('level5ID', '<i4'), ('photonID', '<i4')]\n"
     ]
    }
   ],
   "source": [
    "print(hits.dtype)"
   ]
  },
  {
   "cell_type": "code",
   "execution_count": 4,
   "metadata": {},
   "outputs": [],
   "source": [
    "eid = np.unique(hits[\"eventID\"])"
   ]
  },
  {
   "cell_type": "code",
   "execution_count": 5,
   "metadata": {},
   "outputs": [
    {
     "name": "stdout",
     "output_type": "stream",
     "text": [
      "39 245\n"
     ]
    }
   ],
   "source": [
    "cond = hits['edep'] == 0.511\n",
    "print(cond.sum(), len(eid))\n",
    "g_eid = hits[\"eventID\"][cond]"
   ]
  },
  {
   "cell_type": "code",
   "execution_count": 6,
   "metadata": {},
   "outputs": [
    {
     "data": {
      "image/png": "[encoded data removed]",
      "text/plain": [
       "<Figure size 432x288 with 1 Axes>"
      ]
     },
     "metadata": {
      "needs_background": "light"
     },
     "output_type": "display_data"
    },
    {
     "data": {
      "image/png": "[encoded data removed]",
      "text/plain": [
       "<Figure size 432x288 with 1 Axes>"
      ]
     },
     "metadata": {
      "needs_background": "light"
     },
     "output_type": "display_data"
    },
    {
     "data": {
      "image/png": "[encoded data removed]",
      "text/plain": [
       "<Figure size 432x288 with 1 Axes>"
      ]
     },
     "metadata": {
      "needs_background": "light"
     },
     "output_type": "display_data"
    },
    {
     "data": {
      "image/png": "[encoded data removed]",
      "text/plain": [
       "<Figure size 432x288 with 1 Axes>"
      ]
     },
     "metadata": {
      "needs_background": "light"
     },
     "output_type": "display_data"
    },
    {
     "data": {
      "image/png": "[encoded data removed]",
      "text/plain": [
       "<Figure size 432x288 with 1 Axes>"
      ]
     },
     "metadata": {
      "needs_background": "light"
     },
     "output_type": "display_data"
    }
   ],
   "source": [
    "l_phot = np.zeros(len(g_eid))\n",
    "r_phot = np.zeros(len(g_eid))\n",
    "cond_opt = hits[\"PDGEncoding\"] == 0\n",
    "\n",
    "cond_evt = hits[\"eventID\"] == g_eid[0]\n",
    "opt_hits = hits[cond_evt & cond_opt]\n",
    "x_pos = opt_hits[\"posX\"]\n",
    "y_pos = opt_hits[\"posY\"]\n",
    "z_pos = opt_hits[\"posZ\"]\n",
    "    \n",
    "proc = opt_hits[\"processName\"]\n",
    "    \n",
    "plt.figure()\n",
    "plt.hist(x_pos, bins=25, range=(-50, 50))\n",
    "    \n",
    "plt.figure()\n",
    "plt.hist(y_pos, bins=30, range=(-3, 3))\n",
    "    \n",
    "plt.figure()\n",
    "plt.hist(z_pos, bins=30, range=(-3, 3))\n",
    "    \n",
    "plt.figure()\n",
    "plt.hist(proc, bins=10)\n",
    "    \n",
    "plt.figure()\n",
    "plt.hist(x_pos[proc == b\"OpticalAbsorption\"], bins=25, range=(-50, 50))\n",
    "plt.hist(x_pos[proc == b\"Transportation\"], bins=25, range=(-50, 50))\n",
    "    \n",
    "# plt.figure()\n",
    "# plt.hist(x_pos[proc == b\"Transportation\"], bins=25, range=(-60, 60))\n",
    "    \n",
    "plt.show()"
   ]
  },
  {
   "cell_type": "code",
   "execution_count": 7,
   "metadata": {},
   "outputs": [],
   "source": [
    "for i in range(len(g_eid)):\n",
    "    cond_evt = hits[\"eventID\"] == g_eid[i]\n",
    "    opt_hits = hits[cond_evt & cond_opt]\n",
    "    x_pos = opt_hits[\"posX\"]\n",
    "    proc = opt_hits[\"processName\"]\n",
    "    l_phot[i] = np.sum((x_pos < 0) & (proc == b\"Transportation\"))\n",
    "    r_phot[i] = np.sum((x_pos > 0) & (proc == b\"Transportation\"))"
   ]
  },
  {
   "cell_type": "code",
   "execution_count": 8,
   "metadata": {},
   "outputs": [
    {
     "data": {
      "text/plain": [
       "(array([ 0.,  0.,  0.,  0.,  0.,  0.,  0.,  0.,  0.,  0.,  0.,  1.,  8.,\n",
       "        11.,  9.,  8.,  2.,  0.,  0.,  0.,  0.,  0.,  0.,  0.,  0.]),\n",
       " array([  0.,   8.,  16.,  24.,  32.,  40.,  48.,  56.,  64.,  72.,  80.,\n",
       "         88.,  96., 104., 112., 120., 128., 136., 144., 152., 160., 168.,\n",
       "        176., 184., 192., 200.]),\n",
       " <a list of 1 Patch objects>)"
      ]
     },
     "execution_count": 8,
     "metadata": {},
     "output_type": "execute_result"
    },
    {
     "data": {
      "image/png": "[encoded data removed]",
      "text/plain": [
       "<Figure size 432x288 with 1 Axes>"
      ]
     },
     "metadata": {
      "needs_background": "light"
     },
     "output_type": "display_data"
    }
   ],
   "source": [
    "plt.figure()\n",
    "plt.hist(l_phot, bins=25, range=(0, 200), histtype='step')\n",
    "plt.hist(r_phot, bins=25, range=(0, 200), histtype='step')"
   ]
  },
  {
   "cell_type": "code",
   "execution_count": 9,
   "metadata": {},
   "outputs": [
    {
     "data": {
      "text/plain": [
       "(array([ 221.,  484.,  745.,  828., 1058., 1284., 2372., 2138., 2318.,\n",
       "        1516., 2340.,  686., 4366., 3027., 3906., 3207.,  512.,    0.,\n",
       "         523.,    0.,    0.,    0.,  292.,    0.,    0.]),\n",
       " array([  0.,   8.,  16.,  24.,  32.,  40.,  48.,  56.,  64.,  72.,  80.,\n",
       "         88.,  96., 104., 112., 120., 128., 136., 144., 152., 160., 168.,\n",
       "        176., 184., 192., 200.]),\n",
       " <a list of 1 Patch objects>)"
      ]
     },
     "execution_count": 9,
     "metadata": {},
     "output_type": "execute_result"
    },
    {
     "data": {
      "image/png": "[encoded data removed]",
      "text/plain": [
       "<Figure size 432x288 with 1 Axes>"
      ]
     },
     "metadata": {
      "needs_background": "light"
     },
     "output_type": "display_data"
    }
   ],
   "source": [
    "b_eid = hits[\"eventID\"][~cond]\n",
    "l_phot = np.zeros(len(b_eid))\n",
    "r_phot = np.zeros(len(b_eid))\n",
    "\n",
    "for i in range(len(b_eid)):\n",
    "    cond_evt = hits[\"eventID\"] == b_eid[i]\n",
    "    opt_hits = hits[cond_evt & cond_opt]\n",
    "    x_pos = opt_hits[\"posX\"]\n",
    "    proc = opt_hits[\"processName\"]\n",
    "    l_phot[i] = np.sum((x_pos < 0) & (proc == b\"Transportation\"))\n",
    "    r_phot[i] = np.sum((x_pos > 0) & (proc == b\"Transportation\"))\n",
    "    \n",
    "plt.figure()\n",
    "plt.hist(l_phot, bins=25, range=(0, 200), histtype='step')\n",
    "plt.hist(r_phot, bins=25, range=(0, 200), histtype='step')"
   ]
  },
  {
   "cell_type": "code",
   "execution_count": 10,
   "metadata": {},
   "outputs": [
    {
     "data": {
      "image/png": "[encoded data removed]",
      "text/plain": [
       "<Figure size 432x288 with 1 Axes>"
      ]
     },
     "metadata": {
      "needs_background": "light"
     },
     "output_type": "display_data"
    }
   ],
   "source": [
    "b_eid = hits[\"eventID\"][~cond]\n",
    "l_phot = np.zeros(len(b_eid))\n",
    "r_phot = np.zeros(len(b_eid))\n",
    "energy = np.zeros(len(b_eid))\n",
    "\n",
    "cond_gam = hits[\"PDGEncoding\"] == 22\n",
    "for i in range(len(b_eid)):\n",
    "    cond_evt = hits[\"eventID\"] == b_eid[i]\n",
    "    opt_hits = hits[cond_evt & cond_opt]\n",
    "    gam_hits = hits[cond_evt & cond_gam]\n",
    "    edep = gam_hits[\"edep\"]\n",
    "    x_pos = opt_hits[\"posX\"]\n",
    "    proc = opt_hits[\"processName\"]\n",
    "    l_phot[i] = np.sum((x_pos < 0) & (proc == b\"Transportation\"))\n",
    "    r_phot[i] = np.sum((x_pos > 0) & (proc == b\"Transportation\"))\n",
    "    energy[i] = np.sum(edep)\n",
    "    \n",
    "plt.figure()\n",
    "plt.plot(energy, l_phot, 'o')\n",
    "plt.plot(energy, r_phot, '*')\n",
    "plt.show()"
   ]
  },
  {
   "cell_type": "code",
   "execution_count": null,
   "metadata": {},
   "outputs": [],
   "source": []
  }
 ],
 "metadata": {
  "kernelspec": {
   "display_name": "Python 3",
   "language": "python",
   "name": "python3"
  },
  "language_info": {
   "codemirror_mode": {
    "name": "ipython",
    "version": 3
   },
   "file_extension": ".py",
   "mimetype": "text/x-python",
   "name": "python",
   "nbconvert_exporter": "python",
   "pygments_lexer": "ipython3",
   "version": "3.6.9"
  }
 },
 "nbformat": 4,
 "nbformat_minor": 4
}
